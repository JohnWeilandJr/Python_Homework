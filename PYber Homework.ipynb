{
 "cells": [
  {
   "cell_type": "code",
   "execution_count": 1,
   "metadata": {},
   "outputs": [
    {
     "data": {
      "text/html": [
       "<div>\n",
       "<style>\n",
       "    .dataframe thead tr:only-child th {\n",
       "        text-align: right;\n",
       "    }\n",
       "\n",
       "    .dataframe thead th {\n",
       "        text-align: left;\n",
       "    }\n",
       "\n",
       "    .dataframe tbody tr th {\n",
       "        vertical-align: top;\n",
       "    }\n",
       "</style>\n",
       "<table border=\"1\" class=\"dataframe\">\n",
       "  <thead>\n",
       "    <tr style=\"text-align: right;\">\n",
       "      <th></th>\n",
       "      <th>city</th>\n",
       "      <th>date</th>\n",
       "      <th>fare</th>\n",
       "      <th>ride_id</th>\n",
       "    </tr>\n",
       "  </thead>\n",
       "  <tbody>\n",
       "    <tr>\n",
       "      <th>0</th>\n",
       "      <td>Sarabury</td>\n",
       "      <td>2016-01-16 13:49:27</td>\n",
       "      <td>38.35</td>\n",
       "      <td>5403689035038</td>\n",
       "    </tr>\n",
       "    <tr>\n",
       "      <th>1</th>\n",
       "      <td>South Roy</td>\n",
       "      <td>2016-01-02 18:42:34</td>\n",
       "      <td>17.49</td>\n",
       "      <td>4036272335942</td>\n",
       "    </tr>\n",
       "    <tr>\n",
       "      <th>2</th>\n",
       "      <td>Wiseborough</td>\n",
       "      <td>2016-01-21 17:35:29</td>\n",
       "      <td>44.18</td>\n",
       "      <td>3645042422587</td>\n",
       "    </tr>\n",
       "    <tr>\n",
       "      <th>3</th>\n",
       "      <td>Spencertown</td>\n",
       "      <td>2016-07-31 14:53:22</td>\n",
       "      <td>6.87</td>\n",
       "      <td>2242596575892</td>\n",
       "    </tr>\n",
       "    <tr>\n",
       "      <th>4</th>\n",
       "      <td>Nguyenbury</td>\n",
       "      <td>2016-07-09 04:42:44</td>\n",
       "      <td>6.28</td>\n",
       "      <td>1543057793673</td>\n",
       "    </tr>\n",
       "  </tbody>\n",
       "</table>\n",
       "</div>"
      ],
      "text/plain": [
       "          city                 date   fare        ride_id\n",
       "0     Sarabury  2016-01-16 13:49:27  38.35  5403689035038\n",
       "1    South Roy  2016-01-02 18:42:34  17.49  4036272335942\n",
       "2  Wiseborough  2016-01-21 17:35:29  44.18  3645042422587\n",
       "3  Spencertown  2016-07-31 14:53:22   6.87  2242596575892\n",
       "4   Nguyenbury  2016-07-09 04:42:44   6.28  1543057793673"
      ]
     },
     "execution_count": 1,
     "metadata": {},
     "output_type": "execute_result"
    }
   ],
   "source": [
    "import pandas as pd\n",
    "import numpy as np\n",
    "import matplotlib.pyplot as plt\n",
    "\n",
    "df1 = \"city_data.csv\"\n",
    "df2 = \"ride_data.csv\"\n",
    "\n",
    "city_df = pd.read_csv(df1)\n",
    "ride_df = pd.read_csv(df2)"
   ]
  },
  {
   "cell_type": "code",
   "execution_count": 2,
   "metadata": {},
   "outputs": [],
   "source": [
    "#Merge DF's and Groupby\n",
    "\n",
    "complete_df = pd.merge(city_df, ride_df, how=\"left\", on=[\"city\", \"city\"])\n",
    "complete_groupby = complete_df.groupby('city')"
   ]
  },
  {
   "cell_type": "code",
   "execution_count": 3,
   "metadata": {},
   "outputs": [],
   "source": [
    "#Average Fare Per City\n",
    "\n",
    "fare_city = complete_groupby.mean()['fare']\n",
    "\n",
    "#Rides per city\n",
    "\n",
    "rides = complete_groupby.count()['fare']\n",
    "\n",
    "#Drivers Per City\n",
    "\n",
    "drivers = complete_groupby.mean()['driver_count']\n",
    "\n",
    "#Total Fares\n",
    "fare_total = complete_groupby.sum()['fare']\n"
   ]
  },
  {
   "cell_type": "code",
   "execution_count": 4,
   "metadata": {},
   "outputs": [],
   "source": [
    "#Reset DF\n",
    "\n",
    "complete_df.set_index('city', inplace= True)\n",
    "complete_df['avg_fare'] = fare_city\n",
    "complete_df['ride_count'] = rides\n",
    "complete_df['driver_count'] = drivers\n",
    "complete_df['total_fare'] = fare_total"
   ]
  },
  {
   "cell_type": "code",
   "execution_count": 5,
   "metadata": {},
   "outputs": [],
   "source": [
    "#Dataframe by city\n",
    "\n",
    "urban = complete_df.loc[complete_df[\"type\"] == 'Urban', :]\n",
    "suburban = complete_df.loc[complete_df[\"type\"] == 'Suburban', :]\n",
    "rural = complete_df.loc[complete_df[\"type\"] == 'Rural', :]\n"
   ]
  },
  {
   "cell_type": "code",
   "execution_count": 6,
   "metadata": {
    "scrolled": true
   },
   "outputs": [
    {
     "data": {
      "image/png": "[encoded data removed]",
      "text/plain": [
       "<matplotlib.figure.Figure at 0x1e66591c1d0>"
      ]
     },
     "metadata": {},
     "output_type": "display_data"
    }
   ],
   "source": [
    "#Bubble plot\n",
    "\n",
    "plt.figure(figsize= (5, 5))\n",
    "\n",
    "urban = plt.scatter(urban['ride_count'], urban['avg_fare'], c='blue', s=5*urban['driver_count'], edgecolors='black', alpha=0.5, label='Urban')\n",
    "suburban = plt.scatter(suburban['ride_count'], suburban['avg_fare'], c='yellow', s=5*suburban['driver_count'], edgecolors='black', alpha=0.5, label='Suburban')\n",
    "rural = plt.scatter(rural['ride_count'], rural['avg_fare'], c='green', s=5*rural['driver_count'], edgecolors='black', alpha=0.5, label='Rural')\n",
    "\n",
    "plt.grid()\n",
    "plt.ylabel(\"Average Fare\")\n",
    "plt.xlabel(\"Total Rides Per City\")\n",
    "\n",
    "lgnd = plt.legend(fontsize=\"medium\", mode=\"expanded\", numpoints=1, scatterpoints=1, loc=\"best\", title=\"City Types\", labelspacing=0.5)\n",
    "plt.title(\"PYber Data\")\n",
    "plt.show()"
   ]
  },
  {
   "cell_type": "code",
   "execution_count": 7,
   "metadata": {},
   "outputs": [
    {
     "data": {
      "text/html": [
       "<div>\n",
       "<style>\n",
       "    .dataframe thead tr:only-child th {\n",
       "        text-align: right;\n",
       "    }\n",
       "\n",
       "    .dataframe thead th {\n",
       "        text-align: left;\n",
       "    }\n",
       "\n",
       "    .dataframe tbody tr th {\n",
       "        vertical-align: top;\n",
       "    }\n",
       "</style>\n",
       "<table border=\"1\" class=\"dataframe\">\n",
       "  <thead>\n",
       "    <tr style=\"text-align: right;\">\n",
       "      <th></th>\n",
       "      <th>driver_count</th>\n",
       "      <th>fare</th>\n",
       "      <th>ride_id</th>\n",
       "      <th>avg_fare</th>\n",
       "      <th>ride_count</th>\n",
       "      <th>total_fare</th>\n",
       "      <th>percent_fare</th>\n",
       "    </tr>\n",
       "    <tr>\n",
       "      <th>type</th>\n",
       "      <th></th>\n",
       "      <th></th>\n",
       "      <th></th>\n",
       "      <th></th>\n",
       "      <th></th>\n",
       "      <th></th>\n",
       "      <th></th>\n",
       "    </tr>\n",
       "  </thead>\n",
       "  <tbody>\n",
       "    <tr>\n",
       "      <th>Rural</th>\n",
       "      <td>727.0</td>\n",
       "      <td>4255.09</td>\n",
       "      <td>658729360193746</td>\n",
       "      <td>4255.09</td>\n",
       "      <td>1015</td>\n",
       "      <td>35130.15</td>\n",
       "      <td>2.551708</td>\n",
       "    </tr>\n",
       "    <tr>\n",
       "      <th>Suburban</th>\n",
       "      <td>9730.0</td>\n",
       "      <td>19317.88</td>\n",
       "      <td>3006404300903080</td>\n",
       "      <td>19317.88</td>\n",
       "      <td>10403</td>\n",
       "      <td>321781.79</td>\n",
       "      <td>23.372894</td>\n",
       "    </tr>\n",
       "    <tr>\n",
       "      <th>Urban</th>\n",
       "      <td>64501.0</td>\n",
       "      <td>40078.34</td>\n",
       "      <td>7890194186030600</td>\n",
       "      <td>40078.34</td>\n",
       "      <td>41251</td>\n",
       "      <td>1019818.67</td>\n",
       "      <td>74.075397</td>\n",
       "    </tr>\n",
       "  </tbody>\n",
       "</table>\n",
       "</div>"
      ],
      "text/plain": [
       "          driver_count      fare           ride_id  avg_fare  ride_count  \\\n",
       "type                                                                       \n",
       "Rural            727.0   4255.09   658729360193746   4255.09        1015   \n",
       "Suburban        9730.0  19317.88  3006404300903080  19317.88       10403   \n",
       "Urban          64501.0  40078.34  7890194186030600  40078.34       41251   \n",
       "\n",
       "          total_fare  percent_fare  \n",
       "type                                \n",
       "Rural       35130.15      2.551708  \n",
       "Suburban   321781.79     23.372894  \n",
       "Urban     1019818.67     74.075397  "
      ]
     },
     "execution_count": 7,
     "metadata": {},
     "output_type": "execute_result"
    }
   ],
   "source": [
    "#% Total Fares Per City Type & Pie Chart\n",
    "\n",
    "#Reset DF and Groupby City Type\n",
    "\n",
    "fares_df = complete_df.reset_index()\n",
    "fares_df = fares_df.groupby('type').sum()\n",
    "\n",
    "#% Total Fare by City Type\n",
    "\n",
    "fares_df['percent_fare'] = 100 * (fares_df['total_fare'] / fares_df.total_fare.sum())\n",
    "fares_df"
   ]
  },
  {
   "cell_type": "code",
   "execution_count": null,
   "metadata": {
    "collapsed": true
   },
   "outputs": [],
   "source": []
  },
  {
   "cell_type": "code",
   "execution_count": 8,
   "metadata": {
    "scrolled": true
   },
   "outputs": [
    {
     "data": {
      "image/png": "[encoded data removed]",
      "text/plain": [
       "<matplotlib.figure.Figure at 0x1e6676f8828>"
      ]
     },
     "metadata": {},
     "output_type": "display_data"
    }
   ],
   "source": [
    "#% Total Fare by City Type Pie Chart\n",
    "\n",
    "plt.pie(fares_df['percent_fare'], labels=[\"Rural\", \"Suburban\", \"Urban\"], \n",
    "        colors=[\"red\", \"blue\", \"green\"], explode=[0,0,0.1], autopct='%1.1f%%',shadow=True, startangle=120)\n",
    "plt.title(\"Percentage of Total Fares Per City Type\")\n",
    "plt.show()"
   ]
  },
  {
   "cell_type": "code",
   "execution_count": 9,
   "metadata": {},
   "outputs": [
    {
     "data": {
      "text/html": [
       "<div>\n",
       "<style>\n",
       "    .dataframe thead tr:only-child th {\n",
       "        text-align: right;\n",
       "    }\n",
       "\n",
       "    .dataframe thead th {\n",
       "        text-align: left;\n",
       "    }\n",
       "\n",
       "    .dataframe tbody tr th {\n",
       "        vertical-align: top;\n",
       "    }\n",
       "</style>\n",
       "<table border=\"1\" class=\"dataframe\">\n",
       "  <thead>\n",
       "    <tr style=\"text-align: right;\">\n",
       "      <th></th>\n",
       "      <th>driver_count</th>\n",
       "      <th>fare</th>\n",
       "      <th>ride_id</th>\n",
       "      <th>avg_fare</th>\n",
       "      <th>ride_count</th>\n",
       "      <th>total_fare</th>\n",
       "      <th>percent_fare</th>\n",
       "    </tr>\n",
       "    <tr>\n",
       "      <th>type</th>\n",
       "      <th></th>\n",
       "      <th></th>\n",
       "      <th></th>\n",
       "      <th></th>\n",
       "      <th></th>\n",
       "      <th></th>\n",
       "      <th></th>\n",
       "    </tr>\n",
       "  </thead>\n",
       "  <tbody>\n",
       "    <tr>\n",
       "      <th>Rural</th>\n",
       "      <td>727.0</td>\n",
       "      <td>4255.09</td>\n",
       "      <td>658729360193746</td>\n",
       "      <td>4255.09</td>\n",
       "      <td>1015</td>\n",
       "      <td>35130.15</td>\n",
       "      <td>1.927130</td>\n",
       "    </tr>\n",
       "    <tr>\n",
       "      <th>Suburban</th>\n",
       "      <td>9730.0</td>\n",
       "      <td>19317.88</td>\n",
       "      <td>3006404300903080</td>\n",
       "      <td>19317.88</td>\n",
       "      <td>10403</td>\n",
       "      <td>321781.79</td>\n",
       "      <td>19.751657</td>\n",
       "    </tr>\n",
       "    <tr>\n",
       "      <th>Urban</th>\n",
       "      <td>64501.0</td>\n",
       "      <td>40078.34</td>\n",
       "      <td>7890194186030600</td>\n",
       "      <td>40078.34</td>\n",
       "      <td>41251</td>\n",
       "      <td>1019818.67</td>\n",
       "      <td>78.321214</td>\n",
       "    </tr>\n",
       "  </tbody>\n",
       "</table>\n",
       "</div>"
      ],
      "text/plain": [
       "          driver_count      fare           ride_id  avg_fare  ride_count  \\\n",
       "type                                                                       \n",
       "Rural            727.0   4255.09   658729360193746   4255.09        1015   \n",
       "Suburban        9730.0  19317.88  3006404300903080  19317.88       10403   \n",
       "Urban          64501.0  40078.34  7890194186030600  40078.34       41251   \n",
       "\n",
       "          total_fare  percent_fare  \n",
       "type                                \n",
       "Rural       35130.15      1.927130  \n",
       "Suburban   321781.79     19.751657  \n",
       "Urban     1019818.67     78.321214  "
      ]
     },
     "execution_count": 9,
     "metadata": {},
     "output_type": "execute_result"
    }
   ],
   "source": [
    "#% Total Rides Per City Type\n",
    "\n",
    "#Reset DF and Groupby City Type\n",
    "rides_df = complete_df.reset_index()\n",
    "rides_df = rides_df.groupby('type').sum()\n",
    "\n",
    "#% Total Fare by City Type\n",
    "rides_df['percent_fare'] = 100 * (rides_df['ride_count'] / rides_df.ride_count.sum())\n",
    "rides_df"
   ]
  },
  {
   "cell_type": "code",
   "execution_count": 10,
   "metadata": {},
   "outputs": [
    {
     "data": {
      "image/png": "[encoded data removed]",
      "text/plain": [
       "<matplotlib.figure.Figure at 0x1e667b40b70>"
      ]
     },
     "metadata": {},
     "output_type": "display_data"
    }
   ],
   "source": [
    "#% Total Rides by City Type Pie Chart\n",
    "\n",
    "plt.pie(rides_df['percent_fare'], labels=[\"Rural\", \"Suburban\", \"Urban\"], \n",
    "        colors=[\"yellow\", \"orange\", \"red\"], explode=[0,0,0.1], autopct='%1.1f%%',shadow=True, startangle=120)\n",
    "plt.title(\"Percentage of Total Rides Per City Type\")\n",
    "plt.show()"
   ]
  },
  {
   "cell_type": "code",
   "execution_count": 11,
   "metadata": {},
   "outputs": [
    {
     "data": {
      "text/html": [
       "<div>\n",
       "<style>\n",
       "    .dataframe thead tr:only-child th {\n",
       "        text-align: right;\n",
       "    }\n",
       "\n",
       "    .dataframe thead th {\n",
       "        text-align: left;\n",
       "    }\n",
       "\n",
       "    .dataframe tbody tr th {\n",
       "        vertical-align: top;\n",
       "    }\n",
       "</style>\n",
       "<table border=\"1\" class=\"dataframe\">\n",
       "  <thead>\n",
       "    <tr style=\"text-align: right;\">\n",
       "      <th></th>\n",
       "      <th>driver_count</th>\n",
       "      <th>fare</th>\n",
       "      <th>ride_id</th>\n",
       "      <th>avg_fare</th>\n",
       "      <th>ride_count</th>\n",
       "      <th>total_fare</th>\n",
       "      <th>percent_fare</th>\n",
       "    </tr>\n",
       "    <tr>\n",
       "      <th>type</th>\n",
       "      <th></th>\n",
       "      <th></th>\n",
       "      <th></th>\n",
       "      <th></th>\n",
       "      <th></th>\n",
       "      <th></th>\n",
       "      <th></th>\n",
       "    </tr>\n",
       "  </thead>\n",
       "  <tbody>\n",
       "    <tr>\n",
       "      <th>Rural</th>\n",
       "      <td>727.0</td>\n",
       "      <td>4255.09</td>\n",
       "      <td>658729360193746</td>\n",
       "      <td>4255.09</td>\n",
       "      <td>1015</td>\n",
       "      <td>35130.15</td>\n",
       "      <td>0.969876</td>\n",
       "    </tr>\n",
       "    <tr>\n",
       "      <th>Suburban</th>\n",
       "      <td>9730.0</td>\n",
       "      <td>19317.88</td>\n",
       "      <td>3006404300903080</td>\n",
       "      <td>19317.88</td>\n",
       "      <td>10403</td>\n",
       "      <td>321781.79</td>\n",
       "      <td>12.980602</td>\n",
       "    </tr>\n",
       "    <tr>\n",
       "      <th>Urban</th>\n",
       "      <td>64501.0</td>\n",
       "      <td>40078.34</td>\n",
       "      <td>7890194186030600</td>\n",
       "      <td>40078.34</td>\n",
       "      <td>41251</td>\n",
       "      <td>1019818.67</td>\n",
       "      <td>86.049521</td>\n",
       "    </tr>\n",
       "  </tbody>\n",
       "</table>\n",
       "</div>"
      ],
      "text/plain": [
       "          driver_count      fare           ride_id  avg_fare  ride_count  \\\n",
       "type                                                                       \n",
       "Rural            727.0   4255.09   658729360193746   4255.09        1015   \n",
       "Suburban        9730.0  19317.88  3006404300903080  19317.88       10403   \n",
       "Urban          64501.0  40078.34  7890194186030600  40078.34       41251   \n",
       "\n",
       "          total_fare  percent_fare  \n",
       "type                                \n",
       "Rural       35130.15      0.969876  \n",
       "Suburban   321781.79     12.980602  \n",
       "Urban     1019818.67     86.049521  "
      ]
     },
     "execution_count": 11,
     "metadata": {},
     "output_type": "execute_result"
    }
   ],
   "source": [
    "#% Total Rides Per City Type\n",
    "\n",
    "#Reset DF and Groupby City Type\n",
    "drivers_df = complete_df.reset_index()\n",
    "drivers_df = drivers_df.groupby('type').sum()\n",
    "\n",
    "#% Total Fare by City Type\n",
    "drivers_df['percent_fare'] = 100 * (drivers_df['driver_count'] / drivers_df.driver_count.sum())\n",
    "drivers_df"
   ]
  },
  {
   "cell_type": "code",
   "execution_count": 12,
   "metadata": {},
   "outputs": [
    {
     "data": {
      "image/png": "[encoded data removed]",
      "text/plain": [
       "<matplotlib.figure.Figure at 0x1e667b94b00>"
      ]
     },
     "metadata": {},
     "output_type": "display_data"
    }
   ],
   "source": [
    "#% Total Drivers by City Type Pie Chart\n",
    "\n",
    "plt.pie(drivers_df['percent_fare'], labels=[\"Rural\", \"Suburban\", \"Urban\"], \n",
    "        colors=[\"green\", \"yellow\", \"purple\"], explode=[0,0,0.1], autopct='%1.1f%%',shadow=True, startangle=120)\n",
    "plt.title(\"Percentage of Total Drivers Per City Type\")\n",
    "plt.show()"
   ]
  },
  {
   "cell_type": "code",
   "execution_count": 13,
   "metadata": {
    "collapsed": true
   },
   "outputs": [],
   "source": [
    "# Three observable trends based on the Data:\n",
    "    #1. The total amount of fares, rides and drivers are significantly higher in the Urban area, which points to a higher population density in the Urban area.\n",
    "    #2. Drivers in Rural areas make about 3 times as much per driver compared to drivers in Urban areas. This says that the driver density is greater in Urban areas compared to Rural areas.\n",
    "    #3. The Rural average fare per ride is 4 times higher than the Urban avaerage fare per ride, saying that riders take shorter rides more frequently in this area."
   ]
  }
 ],
 "metadata": {
  "kernelspec": {
   "display_name": "Python 3",
   "language": "python",
   "name": "python3"
  },
  "language_info": {
   "codemirror_mode": {
    "name": "ipython",
    "version": 3
   },
   "file_extension": ".py",
   "mimetype": "text/x-python",
   "name": "python",
   "nbconvert_exporter": "python",
   "pygments_lexer": "ipython3",
   "version": "3.6.3"
  }
 },
 "nbformat": 4,
 "nbformat_minor": 2
}

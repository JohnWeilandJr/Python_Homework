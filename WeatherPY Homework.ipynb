{
 "cells": [
  {
   "cell_type": "code",
   "execution_count": null,
   "metadata": {
    "collapsed": true
   },
   "outputs": [],
   "source": [
    "# Import Dependencies\n",
    "\n",
    "import numpy as np\n",
    "from citipy import citipy\n",
    "import random\n",
    "import matplotlib.pyplot as plt\n",
    "import requests as req\n",
    "import pandas as pd\n",
    "import itertools\n",
    "\n",
    "# Open weather API key and url\n",
    "\n",
    "api_key = \"97c2b5066eb55c3ce6ea2be518aa2c17\"\n",
    "url = \"http://api.openweathermap.org/data/2.5/weather?\" \n",
    "\n",
    "# Import wolrd cities csv\n",
    "\n",
    "world_cities = pd.read_csv(\"worldcities.csv\")\n",
    "#world_cities.head()"
   ]
  },
  {
   "cell_type": "code",
   "execution_count": null,
   "metadata": {
    "collapsed": true
   },
   "outputs": [],
   "source": [
    "# Filter dataframe to show only the cities and covert to a list\n",
    "\n",
    "# Filter\n",
    "\n",
    "cities = world_cities\n",
    "cities = cities.drop(\"Country\", axis=1)\n",
    "cities = cities.drop(\"Latitude\", axis=1)\n",
    "cities = cities.drop(\"Longitude\", axis=1)\n",
    "#cities.head()\n",
    "\n",
    "# Convert to list\n",
    "\n",
    "cities = cities.values.T.tolist()\n",
    "cities = list(itertools.chain(*cities))\n",
    "#cities"
   ]
  },
  {
   "cell_type": "code",
   "execution_count": null,
   "metadata": {},
   "outputs": [],
   "source": [
    "# Create a random list containing 500 cities\n",
    "\n",
    "random_cities = random.sample(cities, 500)\n",
    "random_cities"
   ]
  },
  {
   "cell_type": "code",
   "execution_count": null,
   "metadata": {},
   "outputs": [],
   "source": [
    "# Create placeholders to hold data extracted as a list\n",
    "\n",
    "weather_data = []\n",
    "temp = []\n",
    "humidity = []\n",
    "cloudiness = []\n",
    "wind_speed = []\n",
    "lat = []\n",
    "units = \"metric\"\n",
    "n = 0\n",
    "\n",
    "# Loop through cities and extract pertinent data to be used in scatter plots  \n",
    "\n",
    "for city in random_cities:\n",
    "    \n",
    "    try:\n",
    "        query_url = (url + \"appid=\" + api_key + \"&q=\" + city + \"&units=\" + units)\n",
    "        print(query_url)\n",
    "        weather = req.get(query_url).json()\n",
    "        temp.append(weather['main']['temp'])\n",
    "        humidity.append(weather['main']['humidity'])\n",
    "        cloudiness.append(weather['clouds']['all'])\n",
    "        wind_speed.append(weather['wind']['speed'])\n",
    "        lat.append(weather['coord']['lat'])\n",
    "    \n",
    "    except:\n",
    "        print(\"Error has occured; Skipping\")\n",
    "        continue\n",
    "\n"
   ]
  },
  {
   "cell_type": "code",
   "execution_count": null,
   "metadata": {},
   "outputs": [],
   "source": [
    "# Scatter plot to show Temperature Vs Latitude\n",
    "\n",
    "# Build a scatter plot for each data type\n",
    "plt.scatter(lat, temp, marker=\"o\")\n",
    "\n",
    "# Incorporate the other graph properties\n",
    "plt.title(\"Temperature (F) vs Latitude\")\n",
    "plt.ylabel(\"Temperature\")\n",
    "plt.xlabel(\"Latitude\")\n",
    "plt.grid(True)\n",
    "\n",
    "# Show plot\n",
    "plt.show()"
   ]
  },
  {
   "cell_type": "code",
   "execution_count": null,
   "metadata": {
    "collapsed": true
   },
   "outputs": [],
   "source": [
    "# Scatter plot to show Humidity Vs Latitude\n",
    "\n",
    "# Build a scatter plot for each data type\n",
    "plt.scatter(lat, humidity, marker=\"o\")\n",
    "\n",
    "# Incorporate the other graph properties\n",
    "plt.title(\"Humidity (%) vs Latitude\")\n",
    "plt.ylabel(\"Humidity\")\n",
    "plt.xlabel(\"Latitude\")\n",
    "plt.grid(True)\n",
    "\n",
    "# Show plot\n",
    "plt.show()"
   ]
  },
  {
   "cell_type": "code",
   "execution_count": null,
   "metadata": {
    "collapsed": true
   },
   "outputs": [],
   "source": [
    "# Scatter plot to show Cloudiness Vs Latitude\n",
    "\n",
    "# Build a scatter plot for each data type\n",
    "plt.scatter(lat, cloudiness, marker=\"o\")\n",
    "\n",
    "# Incorporate the other graph properties\n",
    "plt.title(\"Cloudiness (%) vs Latitude\")\n",
    "plt.ylabel(\"Cloudiness\")\n",
    "plt.xlabel(\"Latitude\")\n",
    "plt.grid(True)\n",
    "\n",
    "# Show plot\n",
    "plt.show()"
   ]
  },
  {
   "cell_type": "code",
   "execution_count": null,
   "metadata": {
    "collapsed": true
   },
   "outputs": [],
   "source": [
    "# Scatter plot to show Wind Speed Vs Latitude\n",
    "\n",
    "# Build a scatter plot for each data type\n",
    "plt.scatter(lat, wind_speed , marker=\"o\")\n",
    "\n",
    "# Incorporate the other graph properties\n",
    "plt.title(\"Wind Speed (mph) vs Latitude\")\n",
    "plt.ylabel(\"Wind Speed (mph)\")\n",
    "plt.xlabel(\"Latitude\")\n",
    "plt.grid(True)\n",
    "\n",
    "# Show plot\n",
    "plt.show()"
   ]
  },
  {
   "cell_type": "code",
   "execution_count": null,
   "metadata": {
    "collapsed": true
   },
   "outputs": [],
   "source": []
  }
 ],
 "metadata": {
  "kernelspec": {
   "display_name": "Python 3",
   "language": "python",
   "name": "python3"
  },
  "language_info": {
   "codemirror_mode": {
    "name": "ipython",
    "version": 3
   },
   "file_extension": ".py",
   "mimetype": "text/x-python",
   "name": "python",
   "nbconvert_exporter": "python",
   "pygments_lexer": "ipython3",
   "version": "3.6.3"
  }
 },
 "nbformat": 4,
 "nbformat_minor": 2
}
